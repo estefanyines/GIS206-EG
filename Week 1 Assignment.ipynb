{
 "cells": [
  {
   "cell_type": "code",
   "execution_count": 1,
   "id": "ac3b79d1-e142-496d-bf80-c3fafd0a8d6f",
   "metadata": {},
   "outputs": [],
   "source": [
    "#Assignment # 1"
   ]
  },
  {
   "cell_type": "code",
   "execution_count": 2,
   "id": "9ee8a3b9-abd3-442b-a4da-951e7647a0e7",
   "metadata": {},
   "outputs": [],
   "source": [
    "## For Assignment # 1 I will be exploring a dataset regarding rent subsidies across 15 metropolitan cities. This data includes information on racial demographics. "
   ]
  },
  {
   "cell_type": "code",
   "execution_count": 3,
   "id": "02c56a4c-a13c-490c-8de9-c4b14f993c72",
   "metadata": {},
   "outputs": [],
   "source": [
    "import pandas as pd"
   ]
  },
  {
   "cell_type": "code",
   "execution_count": 6,
   "id": "06b4ce4c-6a5f-4620-9e6f-6b72c1e04065",
   "metadata": {},
   "outputs": [],
   "source": [
    "subs=pd.read_csv('Rent_Subs.csv')"
   ]
  },
  {
   "cell_type": "code",
   "execution_count": 7,
   "id": "d89d88fb-4170-4d6c-8ebf-c983f392deca",
   "metadata": {},
   "outputs": [
    {
     "name": "stdout",
     "output_type": "stream",
     "text": [
      "     2019 Top 15 Metropolitan Areas - Housing Quality - All Occupied Units  \\\n",
      "0                                Tenure Filter: Renter                       \n",
      "1                                                                            \n",
      "2    Variable 1: Top 15 Metropolitan Areas, Variabl...                       \n",
      "3    \\n(Metro areas are shown from largest to small...                       \n",
      "4    [Estimates and Margins of Error in thousands o...                       \n",
      "..                                                 ...                       \n",
      "159  5Includes units that share a septic tank or ce...                       \n",
      "160       *Native Hawaiian and Other Pacific Islander.                       \n",
      "161                                                                          \n",
      "162  Source: U.S. Census Bureau, American Housing S...                       \n",
      "163                     Generated on: 09JAN22:21:01:04                       \n",
      "\n",
      "    Unnamed: 1 Unnamed: 2 Unnamed: 3 Unnamed: 4 Unnamed: 5 Unnamed: 6  \\\n",
      "0          NaN        NaN        NaN        NaN        NaN        NaN   \n",
      "1          NaN        NaN        NaN        NaN        NaN        NaN   \n",
      "2          NaN        NaN        NaN        NaN        NaN        NaN   \n",
      "3          NaN        NaN        NaN        NaN        NaN        NaN   \n",
      "4          NaN        NaN        NaN        NaN        NaN        NaN   \n",
      "..         ...        ...        ...        ...        ...        ...   \n",
      "159        NaN        NaN        NaN        NaN        NaN        NaN   \n",
      "160        NaN        NaN        NaN        NaN        NaN        NaN   \n",
      "161        NaN        NaN        NaN        NaN        NaN        NaN   \n",
      "162        NaN        NaN        NaN        NaN        NaN        NaN   \n",
      "163        NaN        NaN        NaN        NaN        NaN        NaN   \n",
      "\n",
      "    Unnamed: 7 Unnamed: 8 Unnamed: 9  ... Unnamed: 95 Unnamed: 96 Unnamed: 97  \\\n",
      "0          NaN        NaN        NaN  ...         NaN         NaN         NaN   \n",
      "1          NaN        NaN        NaN  ...         NaN         NaN         NaN   \n",
      "2          NaN        NaN        NaN  ...         NaN         NaN         NaN   \n",
      "3          NaN        NaN        NaN  ...         NaN         NaN         NaN   \n",
      "4          NaN        NaN        NaN  ...         NaN         NaN         NaN   \n",
      "..         ...        ...        ...  ...         ...         ...         ...   \n",
      "159        NaN        NaN        NaN  ...         NaN         NaN         NaN   \n",
      "160        NaN        NaN        NaN  ...         NaN         NaN         NaN   \n",
      "161        NaN        NaN        NaN  ...         NaN         NaN         NaN   \n",
      "162        NaN        NaN        NaN  ...         NaN         NaN         NaN   \n",
      "163        NaN        NaN        NaN  ...         NaN         NaN         NaN   \n",
      "\n",
      "    Unnamed: 98 Unnamed: 99 Unnamed: 100 Unnamed: 101 Unnamed: 102  \\\n",
      "0           NaN         NaN          NaN          NaN          NaN   \n",
      "1           NaN         NaN          NaN          NaN          NaN   \n",
      "2           NaN         NaN          NaN          NaN          NaN   \n",
      "3           NaN         NaN          NaN          NaN          NaN   \n",
      "4           NaN         NaN          NaN          NaN          NaN   \n",
      "..          ...         ...          ...          ...          ...   \n",
      "159         NaN         NaN          NaN          NaN          NaN   \n",
      "160         NaN         NaN          NaN          NaN          NaN   \n",
      "161         NaN         NaN          NaN          NaN          NaN   \n",
      "162         NaN         NaN          NaN          NaN          NaN   \n",
      "163         NaN         NaN          NaN          NaN          NaN   \n",
      "\n",
      "    Unnamed: 103 Unnamed: 104  \n",
      "0            NaN          NaN  \n",
      "1            NaN          NaN  \n",
      "2            NaN          NaN  \n",
      "3            NaN          NaN  \n",
      "4            NaN          NaN  \n",
      "..           ...          ...  \n",
      "159          NaN          NaN  \n",
      "160          NaN          NaN  \n",
      "161          NaN          NaN  \n",
      "162          NaN          NaN  \n",
      "163          NaN          NaN  \n",
      "\n",
      "[164 rows x 105 columns]\n"
     ]
    }
   ],
   "source": [
    "print(subs)"
   ]
  },
  {
   "cell_type": "code",
   "execution_count": 9,
   "id": "ab3f799b-e537-492e-9295-757afd5a2b77",
   "metadata": {},
   "outputs": [
    {
     "data": {
      "text/plain": [
       "(164, 105)"
      ]
     },
     "execution_count": 9,
     "metadata": {},
     "output_type": "execute_result"
    }
   ],
   "source": [
    "subs.shape"
   ]
  },
  {
   "cell_type": "code",
   "execution_count": 10,
   "id": "f67bb3a7-cc89-4b76-a48c-4bebc97c5f63",
   "metadata": {},
   "outputs": [
    {
     "data": {
      "text/plain": [
       "<bound method DataFrame.info of      2019 Top 15 Metropolitan Areas - Housing Quality - All Occupied Units  \\\n",
       "0                                Tenure Filter: Renter                       \n",
       "1                                                                            \n",
       "2    Variable 1: Top 15 Metropolitan Areas, Variabl...                       \n",
       "3    \\n(Metro areas are shown from largest to small...                       \n",
       "4    [Estimates and Margins of Error in thousands o...                       \n",
       "..                                                 ...                       \n",
       "159  5Includes units that share a septic tank or ce...                       \n",
       "160       *Native Hawaiian and Other Pacific Islander.                       \n",
       "161                                                                          \n",
       "162  Source: U.S. Census Bureau, American Housing S...                       \n",
       "163                     Generated on: 09JAN22:21:01:04                       \n",
       "\n",
       "    Unnamed: 1 Unnamed: 2 Unnamed: 3 Unnamed: 4 Unnamed: 5 Unnamed: 6  \\\n",
       "0          NaN        NaN        NaN        NaN        NaN        NaN   \n",
       "1          NaN        NaN        NaN        NaN        NaN        NaN   \n",
       "2          NaN        NaN        NaN        NaN        NaN        NaN   \n",
       "3          NaN        NaN        NaN        NaN        NaN        NaN   \n",
       "4          NaN        NaN        NaN        NaN        NaN        NaN   \n",
       "..         ...        ...        ...        ...        ...        ...   \n",
       "159        NaN        NaN        NaN        NaN        NaN        NaN   \n",
       "160        NaN        NaN        NaN        NaN        NaN        NaN   \n",
       "161        NaN        NaN        NaN        NaN        NaN        NaN   \n",
       "162        NaN        NaN        NaN        NaN        NaN        NaN   \n",
       "163        NaN        NaN        NaN        NaN        NaN        NaN   \n",
       "\n",
       "    Unnamed: 7 Unnamed: 8 Unnamed: 9  ... Unnamed: 95 Unnamed: 96 Unnamed: 97  \\\n",
       "0          NaN        NaN        NaN  ...         NaN         NaN         NaN   \n",
       "1          NaN        NaN        NaN  ...         NaN         NaN         NaN   \n",
       "2          NaN        NaN        NaN  ...         NaN         NaN         NaN   \n",
       "3          NaN        NaN        NaN  ...         NaN         NaN         NaN   \n",
       "4          NaN        NaN        NaN  ...         NaN         NaN         NaN   \n",
       "..         ...        ...        ...  ...         ...         ...         ...   \n",
       "159        NaN        NaN        NaN  ...         NaN         NaN         NaN   \n",
       "160        NaN        NaN        NaN  ...         NaN         NaN         NaN   \n",
       "161        NaN        NaN        NaN  ...         NaN         NaN         NaN   \n",
       "162        NaN        NaN        NaN  ...         NaN         NaN         NaN   \n",
       "163        NaN        NaN        NaN  ...         NaN         NaN         NaN   \n",
       "\n",
       "    Unnamed: 98 Unnamed: 99 Unnamed: 100 Unnamed: 101 Unnamed: 102  \\\n",
       "0           NaN         NaN          NaN          NaN          NaN   \n",
       "1           NaN         NaN          NaN          NaN          NaN   \n",
       "2           NaN         NaN          NaN          NaN          NaN   \n",
       "3           NaN         NaN          NaN          NaN          NaN   \n",
       "4           NaN         NaN          NaN          NaN          NaN   \n",
       "..          ...         ...          ...          ...          ...   \n",
       "159         NaN         NaN          NaN          NaN          NaN   \n",
       "160         NaN         NaN          NaN          NaN          NaN   \n",
       "161         NaN         NaN          NaN          NaN          NaN   \n",
       "162         NaN         NaN          NaN          NaN          NaN   \n",
       "163         NaN         NaN          NaN          NaN          NaN   \n",
       "\n",
       "    Unnamed: 103 Unnamed: 104  \n",
       "0            NaN          NaN  \n",
       "1            NaN          NaN  \n",
       "2            NaN          NaN  \n",
       "3            NaN          NaN  \n",
       "4            NaN          NaN  \n",
       "..           ...          ...  \n",
       "159          NaN          NaN  \n",
       "160          NaN          NaN  \n",
       "161          NaN          NaN  \n",
       "162          NaN          NaN  \n",
       "163          NaN          NaN  \n",
       "\n",
       "[164 rows x 105 columns]>"
      ]
     },
     "execution_count": 10,
     "metadata": {},
     "output_type": "execute_result"
    }
   ],
   "source": [
    "subs.info"
   ]
  },
  {
   "cell_type": "code",
   "execution_count": 18,
   "id": "b63cb51d-5af3-46de-8563-72f53b81bca8",
   "metadata": {},
   "outputs": [
    {
     "data": {
      "text/html": [
       "<div>\n",
       "<style scoped>\n",
       "    .dataframe tbody tr th:only-of-type {\n",
       "        vertical-align: middle;\n",
       "    }\n",
       "\n",
       "    .dataframe tbody tr th {\n",
       "        vertical-align: top;\n",
       "    }\n",
       "\n",
       "    .dataframe thead th {\n",
       "        text-align: right;\n",
       "    }\n",
       "</style>\n",
       "<table border=\"1\" class=\"dataframe\">\n",
       "  <thead>\n",
       "    <tr style=\"text-align: right;\">\n",
       "      <th></th>\n",
       "      <th>2019 Top 15 Metropolitan Areas - Housing Quality - All Occupied Units</th>\n",
       "      <th>Unnamed: 1</th>\n",
       "      <th>Unnamed: 2</th>\n",
       "      <th>Unnamed: 3</th>\n",
       "      <th>Unnamed: 4</th>\n",
       "      <th>Unnamed: 5</th>\n",
       "      <th>Unnamed: 6</th>\n",
       "      <th>Unnamed: 7</th>\n",
       "      <th>Unnamed: 8</th>\n",
       "      <th>Unnamed: 9</th>\n",
       "      <th>...</th>\n",
       "      <th>Unnamed: 95</th>\n",
       "      <th>Unnamed: 96</th>\n",
       "      <th>Unnamed: 97</th>\n",
       "      <th>Unnamed: 98</th>\n",
       "      <th>Unnamed: 99</th>\n",
       "      <th>Unnamed: 100</th>\n",
       "      <th>Unnamed: 101</th>\n",
       "      <th>Unnamed: 102</th>\n",
       "      <th>Unnamed: 103</th>\n",
       "      <th>Unnamed: 104</th>\n",
       "    </tr>\n",
       "  </thead>\n",
       "  <tbody>\n",
       "    <tr>\n",
       "      <th>0</th>\n",
       "      <td>Tenure Filter: Renter</td>\n",
       "      <td>NaN</td>\n",
       "      <td>NaN</td>\n",
       "      <td>NaN</td>\n",
       "      <td>NaN</td>\n",
       "      <td>NaN</td>\n",
       "      <td>NaN</td>\n",
       "      <td>NaN</td>\n",
       "      <td>NaN</td>\n",
       "      <td>NaN</td>\n",
       "      <td>...</td>\n",
       "      <td>NaN</td>\n",
       "      <td>NaN</td>\n",
       "      <td>NaN</td>\n",
       "      <td>NaN</td>\n",
       "      <td>NaN</td>\n",
       "      <td>NaN</td>\n",
       "      <td>NaN</td>\n",
       "      <td>NaN</td>\n",
       "      <td>NaN</td>\n",
       "      <td>NaN</td>\n",
       "    </tr>\n",
       "    <tr>\n",
       "      <th>1</th>\n",
       "      <td></td>\n",
       "      <td>NaN</td>\n",
       "      <td>NaN</td>\n",
       "      <td>NaN</td>\n",
       "      <td>NaN</td>\n",
       "      <td>NaN</td>\n",
       "      <td>NaN</td>\n",
       "      <td>NaN</td>\n",
       "      <td>NaN</td>\n",
       "      <td>NaN</td>\n",
       "      <td>...</td>\n",
       "      <td>NaN</td>\n",
       "      <td>NaN</td>\n",
       "      <td>NaN</td>\n",
       "      <td>NaN</td>\n",
       "      <td>NaN</td>\n",
       "      <td>NaN</td>\n",
       "      <td>NaN</td>\n",
       "      <td>NaN</td>\n",
       "      <td>NaN</td>\n",
       "      <td>NaN</td>\n",
       "    </tr>\n",
       "    <tr>\n",
       "      <th>2</th>\n",
       "      <td>Variable 1: Top 15 Metropolitan Areas, Variabl...</td>\n",
       "      <td>NaN</td>\n",
       "      <td>NaN</td>\n",
       "      <td>NaN</td>\n",
       "      <td>NaN</td>\n",
       "      <td>NaN</td>\n",
       "      <td>NaN</td>\n",
       "      <td>NaN</td>\n",
       "      <td>NaN</td>\n",
       "      <td>NaN</td>\n",
       "      <td>...</td>\n",
       "      <td>NaN</td>\n",
       "      <td>NaN</td>\n",
       "      <td>NaN</td>\n",
       "      <td>NaN</td>\n",
       "      <td>NaN</td>\n",
       "      <td>NaN</td>\n",
       "      <td>NaN</td>\n",
       "      <td>NaN</td>\n",
       "      <td>NaN</td>\n",
       "      <td>NaN</td>\n",
       "    </tr>\n",
       "    <tr>\n",
       "      <th>3</th>\n",
       "      <td>\\n(Metro areas are shown from largest to small...</td>\n",
       "      <td>NaN</td>\n",
       "      <td>NaN</td>\n",
       "      <td>NaN</td>\n",
       "      <td>NaN</td>\n",
       "      <td>NaN</td>\n",
       "      <td>NaN</td>\n",
       "      <td>NaN</td>\n",
       "      <td>NaN</td>\n",
       "      <td>NaN</td>\n",
       "      <td>...</td>\n",
       "      <td>NaN</td>\n",
       "      <td>NaN</td>\n",
       "      <td>NaN</td>\n",
       "      <td>NaN</td>\n",
       "      <td>NaN</td>\n",
       "      <td>NaN</td>\n",
       "      <td>NaN</td>\n",
       "      <td>NaN</td>\n",
       "      <td>NaN</td>\n",
       "      <td>NaN</td>\n",
       "    </tr>\n",
       "    <tr>\n",
       "      <th>4</th>\n",
       "      <td>[Estimates and Margins of Error in thousands o...</td>\n",
       "      <td>NaN</td>\n",
       "      <td>NaN</td>\n",
       "      <td>NaN</td>\n",
       "      <td>NaN</td>\n",
       "      <td>NaN</td>\n",
       "      <td>NaN</td>\n",
       "      <td>NaN</td>\n",
       "      <td>NaN</td>\n",
       "      <td>NaN</td>\n",
       "      <td>...</td>\n",
       "      <td>NaN</td>\n",
       "      <td>NaN</td>\n",
       "      <td>NaN</td>\n",
       "      <td>NaN</td>\n",
       "      <td>NaN</td>\n",
       "      <td>NaN</td>\n",
       "      <td>NaN</td>\n",
       "      <td>NaN</td>\n",
       "      <td>NaN</td>\n",
       "      <td>NaN</td>\n",
       "    </tr>\n",
       "  </tbody>\n",
       "</table>\n",
       "<p>5 rows × 105 columns</p>\n",
       "</div>"
      ],
      "text/plain": [
       "   2019 Top 15 Metropolitan Areas - Housing Quality - All Occupied Units  \\\n",
       "0                              Tenure Filter: Renter                       \n",
       "1                                                                          \n",
       "2  Variable 1: Top 15 Metropolitan Areas, Variabl...                       \n",
       "3  \\n(Metro areas are shown from largest to small...                       \n",
       "4  [Estimates and Margins of Error in thousands o...                       \n",
       "\n",
       "  Unnamed: 1 Unnamed: 2 Unnamed: 3 Unnamed: 4 Unnamed: 5 Unnamed: 6  \\\n",
       "0        NaN        NaN        NaN        NaN        NaN        NaN   \n",
       "1        NaN        NaN        NaN        NaN        NaN        NaN   \n",
       "2        NaN        NaN        NaN        NaN        NaN        NaN   \n",
       "3        NaN        NaN        NaN        NaN        NaN        NaN   \n",
       "4        NaN        NaN        NaN        NaN        NaN        NaN   \n",
       "\n",
       "  Unnamed: 7 Unnamed: 8 Unnamed: 9  ... Unnamed: 95 Unnamed: 96 Unnamed: 97  \\\n",
       "0        NaN        NaN        NaN  ...         NaN         NaN         NaN   \n",
       "1        NaN        NaN        NaN  ...         NaN         NaN         NaN   \n",
       "2        NaN        NaN        NaN  ...         NaN         NaN         NaN   \n",
       "3        NaN        NaN        NaN  ...         NaN         NaN         NaN   \n",
       "4        NaN        NaN        NaN  ...         NaN         NaN         NaN   \n",
       "\n",
       "  Unnamed: 98 Unnamed: 99 Unnamed: 100 Unnamed: 101 Unnamed: 102 Unnamed: 103  \\\n",
       "0         NaN         NaN          NaN          NaN          NaN          NaN   \n",
       "1         NaN         NaN          NaN          NaN          NaN          NaN   \n",
       "2         NaN         NaN          NaN          NaN          NaN          NaN   \n",
       "3         NaN         NaN          NaN          NaN          NaN          NaN   \n",
       "4         NaN         NaN          NaN          NaN          NaN          NaN   \n",
       "\n",
       "  Unnamed: 104  \n",
       "0          NaN  \n",
       "1          NaN  \n",
       "2          NaN  \n",
       "3          NaN  \n",
       "4          NaN  \n",
       "\n",
       "[5 rows x 105 columns]"
      ]
     },
     "execution_count": 18,
     "metadata": {},
     "output_type": "execute_result"
    }
   ],
   "source": [
    "subs.head()"
   ]
  },
  {
   "cell_type": "code",
   "execution_count": 20,
   "id": "0aefed1c-0541-4313-a8fb-d47f730c02b2",
   "metadata": {},
   "outputs": [
    {
     "data": {
      "text/plain": [
       "<pandas.plotting._core.PlotAccessor object at 0x7f840c347670>"
      ]
     },
     "execution_count": 20,
     "metadata": {},
     "output_type": "execute_result"
    }
   ],
   "source": [
    "subs.plot"
   ]
  },
  {
   "cell_type": "code",
   "execution_count": 14,
   "id": "b27fe789-101b-4586-b9ef-11f61d4acfb5",
   "metadata": {},
   "outputs": [
    {
     "data": {
      "text/plain": [
       " 2019 Top 15 Metropolitan Areas - Housing Quality - All Occupied Units  Unnamed: 1    Unnamed: 2    Unnamed: 3    Unnamed: 4    Unnamed: 5    Unnamed: 6    Unnamed: 7    Unnamed: 8    Unnamed: 9    Unnamed: 10   Unnamed: 11   Unnamed: 12   Unnamed: 13   Unnamed: 14   Unnamed: 15   Unnamed: 16   Unnamed: 17   Unnamed: 18   Unnamed: 19   Unnamed: 20   Unnamed: 21   Unnamed: 22   Unnamed: 23   Unnamed: 24   Unnamed: 25   Unnamed: 26   Unnamed: 27   Unnamed: 28   Unnamed: 29   Unnamed: 30   Unnamed: 31   Unnamed: 32   Unnamed: 33   Unnamed: 34   Unnamed: 35   Unnamed: 36   Unnamed: 37   Unnamed: 38   Unnamed: 39   Unnamed: 40   Unnamed: 41   Unnamed: 42   Unnamed: 43   Unnamed: 44   Unnamed: 45   Unnamed: 46   Unnamed: 47   Unnamed: 48   Unnamed: 49   Unnamed: 50   Unnamed: 51   Unnamed: 52   Unnamed: 53   Unnamed: 54   Unnamed: 55   Unnamed: 56   Unnamed: 57   Unnamed: 58   Unnamed: 59   Unnamed: 60   Unnamed: 61   Unnamed: 62   Unnamed: 63   Unnamed: 64   Unnamed: 65   Unnamed: 66   Unnamed: 67   Unnamed: 68   Unnamed: 69   Unnamed: 70   Unnamed: 71   Unnamed: 72   Unnamed: 73   Unnamed: 74   Unnamed: 75   Unnamed: 76   Unnamed: 77   Unnamed: 78   Unnamed: 79   Unnamed: 80   Unnamed: 81   Unnamed: 82   Unnamed: 83   Unnamed: 84   Unnamed: 85   Unnamed: 86   Unnamed: 87   Unnamed: 88   Unnamed: 89   Unnamed: 90   Unnamed: 91   Unnamed: 92   Unnamed: 93   Unnamed: 94   Unnamed: 95   Unnamed: 96   Unnamed: 97   Unnamed: 98   Unnamed: 99   Unnamed: 100  Unnamed: 101  Unnamed: 102  Unnamed: 103  Unnamed: 104\n",
       "                                                                                                                                                                                                                                                                                                                                                                                                                                                                                                                                                                                                                                                                                                                                                                                                                                                                                                                                                                                                                                                                                                                                                                                                                                                                                                                                                                                                                                                                                                                                                                                          22\n",
       "    Number of breakdowns that lasted 6 hours or more:                                                                                                                                                                                                                                                                                                                                                                                                                                                                                                                                                                                                                                                                                                                                                                                                                                                                                                                                                                                                                                                                                                                                                                                                                                                                                                                                                                                                                                                                                                                                      3\n",
       "    4 or more                                                                      S             S             S  .             .             .             .                        S             S  .             .             .                        S  .                        S             S             S  .             .             .             .                        S             S             S  .             .             .             .                        S             S             S  .             .             .             .                        S  .                        S  .             .             .                        S  .             .                        S  .             .             .                        S             S             S  .             .             .             .                        S             S             S  .             .             .             .                        S  .             .             .             .             .                        S             S             S             S  .             .             .             .                        S             S  .             .             .             .             .                        S  .                        S  .             .             .             .                        S             S             S  .             .             .             .             .             .             .             .             .             .             .                1\n",
       "    3                                                                              S             S             S  .             .             .             .                        S             S  .             .                        S  .             .             .             .             .             .             .             .             .                        S             S  .             .             .             .             .                        S             S  .             .             .             .             .                        S             S  .             .             .             .                        S  .                        S  .             .                        S  .                        S             S  .             .             .             .             .                        S  .                        S  .             .             .             .                        S  .                        S  .             .             .             .                        S             S  .             .             .             .             .             .             .             .             .             .             .             .                        S  .                        S  .             .             .             .             .             .             .             .             .             .             .             .             .             .             .             .             .             .                1\n",
       "                                                                                                                                                                                                                                                                         S             S             S             S  .             .             .             .                        S             S  .                        S             S  .             .                        S             S             S  .             .             .                        S             S  .                        S  .             .             .                        S             S             S  .             .             .                        S             S  .                        S  .             .             .             .                        S             S             S  .             .             .             .             .             .             .             .             .             .             .                        S             S  .             .             .             .             .                        S             S  .             .             .             .             .                        S  .                        S  .             .             .             .                        S  .                        S  .             .             .             .                        S             S  .             .             .             .             .                1\n",
       "                                                                                                                                                                                                                                                                                                                                                                                                                                                                                                                                                                                                                                                                                                                                                                                                                                                                                                                                                                                                                                                                                                                                                                                                                                                                                                                                                                                                                                                                                                                                                                                          ..\n",
       "Selected Deficiencies2                                                                                                                                                                                                                                                                                                                                                                                                                                                                                                                                                                                                                                                                                                                                                                                                                                                                                                                                                                                                                                                                                                                                                                                                                                                                                                                                                                                                                                                                                                                                                                     1\n",
       "Sagging roof                                                                       S             S             S  .             .             .             .                        S             S             S  .                        S  .             .                        S             S  .             .             .             .             .                        S             S             S  .             .             .             .                        S             S             S  .             .             .                        S  .             .             .             .             .             .                        S             S  .                        S  .             .             .                        S             S             S  .             .             .             .             9.9                      S             S  .             .             .             .                        S             S  .                        S  .             .             .                        S             S  .             .             .             .             .                        S             S  .             .             .             .             .                        S             S             S  .             .             .             .                        S             S             S  .             .             .             .                        S             S             S  .             .             .             .                1\n",
       "Rooms without electric outlets                                          97.5          53.2                     S             S             S  .                        S  58.2          44.0                     S  .                        S  .             .             17.7                     S             S  .                        S  .             .             29.8          20.4                     S  .                        S  .             .             22.0          13.7                     S  .                        S  .             .                        S             S             S  .                        S  .             31.9                     S             S  .                        S  .                        S  30.6          19.2                     S  .             .             .                        S  20.7                     S  15.2                     S             S  .             .             14.0                     S             S  .                        S  .             .             12.1                     S  .             .                        S             S             S  24.1          16.9                     S             S  .             .                        S  13.5          7.7                      S  .                        S  .                        S  9.1                      S             S  .             .             .             .                        S             S             S  .                        S  .             .                1\n",
       "Other room                                                                         S             S  .             .             .             .             .                        S             S             S  .             .             .             .                        S             S             S  .             .             .             .                        S             S             S  .             .             .             .                        S             S             S  .             .             .                        S             S             S             S  .             .             .                        S             S             S  .             .             .             .                        S             S  .             .             .             .             .                        S             S             S  .                        S  .             .                        S             S  .             .             .                        S  .                        S             S             S             S  .             .             .                        S             S             S  .             .             .             .                        S             S  .                        S  .             .             .                        S             S             S  .             .             .             .                        S             S  .             .             .             .             .                1\n",
       "  Equipment breakdowns                                                  213.6         131.5         70.1          .                        S  .                        S  50.6          40.4                     S  .                        S  .             .             54.8          38.9                     S  .             .             .             .             23.0                     S             S             S  .             .             .                        S             S             S  .             .             .                        S  29.3                     S             S  .             .             .             35.8                     S  24.6          .                        S  .                        S             S             S             S  .             .             .             .             9.8                      S             S  .                        S  .             .             29.8          17.9                     S  .                        S  .                        S  15.6          10.2                     S  .                        S  .                        S  12.8          10.3                     S  .             .             .             .             9.3                      S             S             S  .                        S  .             18.9          6.4           12.2          .             .                        S  .             10.8                     S             S  .                        S  .             .                1\n",
       "Length: 119, dtype: int64"
      ]
     },
     "execution_count": 14,
     "metadata": {},
     "output_type": "execute_result"
    }
   ],
   "source": [
    "subs.value_counts()"
   ]
  },
  {
   "cell_type": "code",
   "execution_count": 21,
   "id": "e5dc2c73-a5e4-408c-be93-5ab17a96d3b8",
   "metadata": {},
   "outputs": [
    {
     "data": {
      "text/plain": [
       " 2019 Top 15 Metropolitan Areas - Housing Quality - All Occupied Units  Unnamed: 1    Unnamed: 2    Unnamed: 3    Unnamed: 4    Unnamed: 5    Unnamed: 6    Unnamed: 7    Unnamed: 8    Unnamed: 9    Unnamed: 10   Unnamed: 11   Unnamed: 12   Unnamed: 13   Unnamed: 14   Unnamed: 15   Unnamed: 16   Unnamed: 17   Unnamed: 18   Unnamed: 19   Unnamed: 20   Unnamed: 21   Unnamed: 22   Unnamed: 23   Unnamed: 24   Unnamed: 25   Unnamed: 26   Unnamed: 27   Unnamed: 28   Unnamed: 29   Unnamed: 30   Unnamed: 31   Unnamed: 32   Unnamed: 33   Unnamed: 34   Unnamed: 35   Unnamed: 36   Unnamed: 37   Unnamed: 38   Unnamed: 39   Unnamed: 40   Unnamed: 41   Unnamed: 42   Unnamed: 43   Unnamed: 44   Unnamed: 45   Unnamed: 46   Unnamed: 47   Unnamed: 48   Unnamed: 49   Unnamed: 50   Unnamed: 51   Unnamed: 52   Unnamed: 53   Unnamed: 54   Unnamed: 55   Unnamed: 56   Unnamed: 57   Unnamed: 58   Unnamed: 59   Unnamed: 60   Unnamed: 61   Unnamed: 62   Unnamed: 63   Unnamed: 64   Unnamed: 65   Unnamed: 66   Unnamed: 67   Unnamed: 68   Unnamed: 69   Unnamed: 70   Unnamed: 71   Unnamed: 72   Unnamed: 73   Unnamed: 74   Unnamed: 75   Unnamed: 76   Unnamed: 77   Unnamed: 78   Unnamed: 79   Unnamed: 80   Unnamed: 81   Unnamed: 82   Unnamed: 83   Unnamed: 84   Unnamed: 85   Unnamed: 86   Unnamed: 87   Unnamed: 88   Unnamed: 89   Unnamed: 90   Unnamed: 91   Unnamed: 92   Unnamed: 93   Unnamed: 94   Unnamed: 95   Unnamed: 96   Unnamed: 97   Unnamed: 98   Unnamed: 99   Unnamed: 100  Unnamed: 101  Unnamed: 102  Unnamed: 103  Unnamed: 104\n",
       "                                                                                                                                                                                                                                                                                                                                                                                                                                                                                                                                                                                                                                                                                                                                                                                                                                                                                                                                                                                                                                                                                                                                                                                                                                                                                                                                                                                                                                                                                                                                                                                          22\n",
       "    Number of breakdowns that lasted 6 hours or more:                                                                                                                                                                                                                                                                                                                                                                                                                                                                                                                                                                                                                                                                                                                                                                                                                                                                                                                                                                                                                                                                                                                                                                                                                                                                                                                                                                                                                                                                                                                                      3\n",
       "    4 or more                                                                      S             S             S  .             .             .             .                        S             S  .             .             .                        S  .                        S             S             S  .             .             .             .                        S             S             S  .             .             .             .                        S             S             S  .             .             .             .                        S  .                        S  .             .             .                        S  .             .                        S  .             .             .                        S             S             S  .             .             .             .                        S             S             S  .             .             .             .                        S  .             .             .             .             .                        S             S             S             S  .             .             .             .                        S             S  .             .             .             .             .                        S  .                        S  .             .             .             .                        S             S             S  .             .             .             .             .             .             .             .             .             .             .                1\n",
       "    3                                                                              S             S             S  .             .             .             .                        S             S  .             .                        S  .             .             .             .             .             .             .             .             .                        S             S  .             .             .             .             .                        S             S  .             .             .             .             .                        S             S  .             .             .             .                        S  .                        S  .             .                        S  .                        S             S  .             .             .             .             .                        S  .                        S  .             .             .             .                        S  .                        S  .             .             .             .                        S             S  .             .             .             .             .             .             .             .             .             .             .             .                        S  .                        S  .             .             .             .             .             .             .             .             .             .             .             .             .             .             .             .             .             .                1\n",
       "                                                                                                                                                                                                                                                                         S             S             S             S  .             .             .             .                        S             S  .                        S             S  .             .                        S             S             S  .             .             .                        S             S  .                        S  .             .             .                        S             S             S  .             .             .                        S             S  .                        S  .             .             .             .                        S             S             S  .             .             .             .             .             .             .             .             .             .             .                        S             S  .             .             .             .             .                        S             S  .             .             .             .             .                        S  .                        S  .             .             .             .                        S  .                        S  .             .             .             .                        S             S  .             .             .             .             .                1\n",
       "                                                                                                                                                                                                                                                                                                                                                                                                                                                                                                                                                                                                                                                                                                                                                                                                                                                                                                                                                                                                                                                                                                                                                                                                                                                                                                                                                                                                                                                                                                                                                                                          ..\n",
       "Selected Deficiencies2                                                                                                                                                                                                                                                                                                                                                                                                                                                                                                                                                                                                                                                                                                                                                                                                                                                                                                                                                                                                                                                                                                                                                                                                                                                                                                                                                                                                                                                                                                                                                                     1\n",
       "Sagging roof                                                                       S             S             S  .             .             .             .                        S             S             S  .                        S  .             .                        S             S  .             .             .             .             .                        S             S             S  .             .             .             .                        S             S             S  .             .             .                        S  .             .             .             .             .             .                        S             S  .                        S  .             .             .                        S             S             S  .             .             .             .             9.9                      S             S  .             .             .             .                        S             S  .                        S  .             .             .                        S             S  .             .             .             .             .                        S             S  .             .             .             .             .                        S             S             S  .             .             .             .                        S             S             S  .             .             .             .                        S             S             S  .             .             .             .                1\n",
       "Rooms without electric outlets                                          97.5          53.2                     S             S             S  .                        S  58.2          44.0                     S  .                        S  .             .             17.7                     S             S  .                        S  .             .             29.8          20.4                     S  .                        S  .             .             22.0          13.7                     S  .                        S  .             .                        S             S             S  .                        S  .             31.9                     S             S  .                        S  .                        S  30.6          19.2                     S  .             .             .                        S  20.7                     S  15.2                     S             S  .             .             14.0                     S             S  .                        S  .             .             12.1                     S  .             .                        S             S             S  24.1          16.9                     S             S  .             .                        S  13.5          7.7                      S  .                        S  .                        S  9.1                      S             S  .             .             .             .                        S             S             S  .                        S  .             .                1\n",
       "Other room                                                                         S             S  .             .             .             .             .                        S             S             S  .             .             .             .                        S             S             S  .             .             .             .                        S             S             S  .             .             .             .                        S             S             S  .             .             .                        S             S             S             S  .             .             .                        S             S             S  .             .             .             .                        S             S  .             .             .             .             .                        S             S             S  .                        S  .             .                        S             S  .             .             .                        S  .                        S             S             S             S  .             .             .                        S             S             S  .             .             .             .                        S             S  .                        S  .             .             .                        S             S             S  .             .             .             .                        S             S  .             .             .             .             .                1\n",
       "  Equipment breakdowns                                                  213.6         131.5         70.1          .                        S  .                        S  50.6          40.4                     S  .                        S  .             .             54.8          38.9                     S  .             .             .             .             23.0                     S             S             S  .             .             .                        S             S             S  .             .             .                        S  29.3                     S             S  .             .             .             35.8                     S  24.6          .                        S  .                        S             S             S             S  .             .             .             .             9.8                      S             S  .                        S  .             .             29.8          17.9                     S  .                        S  .                        S  15.6          10.2                     S  .                        S  .                        S  12.8          10.3                     S  .             .             .             .             9.3                      S             S             S  .                        S  .             18.9          6.4           12.2          .             .                        S  .             10.8                     S             S  .                        S  .             .                1\n",
       "Length: 119, dtype: int64"
      ]
     },
     "execution_count": 21,
     "metadata": {},
     "output_type": "execute_result"
    }
   ],
   "source": [
    "subs.value_counts()"
   ]
  },
  {
   "cell_type": "code",
   "execution_count": null,
   "id": "6abd5a9b-8256-4b18-8071-cf892f0c0674",
   "metadata": {},
   "outputs": [],
   "source": []
  }
 ],
 "metadata": {
  "kernelspec": {
   "display_name": "Python 3 (ipykernel)",
   "language": "python",
   "name": "python3"
  },
  "language_info": {
   "codemirror_mode": {
    "name": "ipython",
    "version": 3
   },
   "file_extension": ".py",
   "mimetype": "text/x-python",
   "name": "python",
   "nbconvert_exporter": "python",
   "pygments_lexer": "ipython3",
   "version": "3.9.6"
  }
 },
 "nbformat": 4,
 "nbformat_minor": 5
}
