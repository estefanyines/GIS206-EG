{
 "cells": [
  {
   "cell_type": "code",
   "execution_count": 3,
   "id": "974a8de3-c702-46d6-a6d3-63f8efcb1c94",
   "metadata": {},
   "outputs": [
    {
     "data": {
      "text/plain": [
       "True"
      ]
     },
     "execution_count": 3,
     "metadata": {},
     "output_type": "execute_result"
    }
   ],
   "source": [
    "import os\n",
    "rs=\"Rent_Subs.csv\"\n",
    "os.path.exists(rs)"
   ]
  },
  {
   "cell_type": "code",
   "execution_count": null,
   "id": "0ed80369-055f-431f-a59e-f18dc09be1c2",
   "metadata": {},
   "outputs": [],
   "source": []
  }
 ],
 "metadata": {
  "kernelspec": {
   "display_name": "Python 3 (ipykernel)",
   "language": "python",
   "name": "python3"
  },
  "language_info": {
   "codemirror_mode": {
    "name": "ipython",
    "version": 3
   },
   "file_extension": ".py",
   "mimetype": "text/x-python",
   "name": "python",
   "nbconvert_exporter": "python",
   "pygments_lexer": "ipython3",
   "version": "3.9.6"
  }
 },
 "nbformat": 4,
 "nbformat_minor": 5
}
