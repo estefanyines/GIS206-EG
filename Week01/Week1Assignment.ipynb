{
 "cells": [
  {
   "cell_type": "code",
   "execution_count": null,
   "id": "b5ba98c3-3efd-4071-a4a6-ee18bf3c2f39",
   "metadata": {},
   "outputs": [],
   "source": [
    "#Assignment # 1"
   ]
  },
  {
   "cell_type": "code",
   "execution_count": null,
   "id": "9b826381-6185-4462-bbab-6d25c23b89b3",
   "metadata": {},
   "outputs": [],
   "source": [
    "## For Assignment # 1 I will be exploring a dataset regarding rent subsidies across 15 metropolitan cities. This data includes information on racial demographics. "
   ]
  },
  {
   "cell_type": "code",
   "execution_count": null,
   "id": "8a5adfaf-fb3d-4fd5-9666-ded4df1d5b7e",
   "metadata": {},
   "outputs": [],
   "source": [
    "import pandas as pd"
   ]
  },
  {
   "cell_type": "code",
   "execution_count": null,
   "id": "23a47227-be60-4dac-a90d-8165722d91a3",
   "metadata": {
    "tags": []
   },
   "outputs": [],
   "source": [
    "rent_subs=pd.read_csv('GIS206-EG/Rent_Subs.csv')"
   ]
  },
  {
   "cell_type": "code",
   "execution_count": null,
   "id": "e57b2adc-e7fd-4cfd-9d3f-47e2ad93818a",
   "metadata": {},
   "outputs": [],
   "source": []
  },
  {
   "cell_type": "code",
   "execution_count": null,
   "id": "0794a19d-ccc4-4a0a-a7af-e3c5fbbe3495",
   "metadata": {},
   "outputs": [],
   "source": []
  },
  {
   "cell_type": "code",
   "execution_count": null,
   "id": "f14222d9-6892-4f7b-bf60-f90b75bca5d1",
   "metadata": {},
   "outputs": [],
   "source": []
  },
  {
   "cell_type": "code",
   "execution_count": null,
   "id": "3cf18494-3e19-4b2e-8b4e-853b862e6d5b",
   "metadata": {},
   "outputs": [],
   "source": []
  },
  {
   "cell_type": "code",
   "execution_count": null,
   "id": "6c771f01-3fb8-4951-9be5-d587b9f04fab",
   "metadata": {},
   "outputs": [],
   "source": []
  }
 ],
 "metadata": {
  "kernelspec": {
   "display_name": "Python 3 (ipykernel)",
   "language": "python",
   "name": "python3"
  },
  "language_info": {
   "codemirror_mode": {
    "name": "ipython",
    "version": 3
   },
   "file_extension": ".py",
   "mimetype": "text/x-python",
   "name": "python",
   "nbconvert_exporter": "python",
   "pygments_lexer": "ipython3",
   "version": "3.9.6"
  }
 },
 "nbformat": 4,
 "nbformat_minor": 5
}
